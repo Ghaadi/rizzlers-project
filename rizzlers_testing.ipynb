{
 "cells": [
  {
   "cell_type": "code",
   "execution_count": 20,
   "metadata": {},
   "outputs": [],
   "source": [
    "import pandas as pd\n",
    "from tensorflow import keras\n",
    "from sklearn.preprocessing import StandardScaler\n",
    "from sklearn.impute import SimpleImputer"
   ]
  },
  {
   "cell_type": "code",
   "execution_count": 42,
   "metadata": {},
   "outputs": [],
   "source": [
    "# Load model\n",
    "loaded_model = keras.models.load_model(\"rizzlers_model.h5\")"
   ]
  },
  {
   "cell_type": "code",
   "execution_count": 39,
   "metadata": {},
   "outputs": [],
   "source": [
    "# Load and preprocess data\n",
    "def load_data(file_path):\n",
    "    # Load the data from the CSV file, treating \"error\" as a missing value indicator and keeping the header as None\n",
    "    data = pd.read_csv(file_path, header=None, na_values=\"error\", dtype=str)\n",
    "        \n",
    "    # Convert all numeric columns to float, coercing non-numeric values to NaN\n",
    "    for col in data.columns:\n",
    "        data[col] = pd.to_numeric(data[col], errors='coerce')\n",
    "        \n",
    "    # Extract labels (first column) and features (all other columns) as NumPy arrays\n",
    "    labels = data.iloc[:, 0].values\n",
    "    features = data.iloc[:, 1:].values\n",
    "    \n",
    "    # Return the features and labels\n",
    "    return features, labels\n",
    "\n",
    "def preprocess_data(features, labels):\n",
    "    # Impute missing values with the mean of the respective column\n",
    "    imputer = SimpleImputer(strategy='mean')\n",
    "    features = imputer.fit_transform(features)\n",
    "    \n",
    "    # Scale the features using StandardScaler to have mean = 0 and standard deviation = 1\n",
    "    scaler = StandardScaler()\n",
    "    features = scaler.fit_transform(features)\n",
    "    \n",
    "    # Return the preprocessed features and the original labels\n",
    "    return features, labels"
   ]
  },
  {
   "cell_type": "code",
   "execution_count": 40,
   "metadata": {},
   "outputs": [],
   "source": [
    "# Load and preprocess data\n",
    "X_test, y_test = load_data('HIGGS_train.csv')\n",
    "X_test, y_test = preprocess_data(X_test, y_test)"
   ]
  },
  {
   "cell_type": "code",
   "execution_count": 43,
   "metadata": {},
   "outputs": [
    {
     "name": "stdout",
     "output_type": "stream",
     "text": [
      "18750/18750 [==============================] - 41s 2ms/step - loss: 0.4580 - accuracy: 0.7761\n",
      "Loss: 0.45800071954727173, Accuracy: 0.7760983109474182\n",
      "18750/18750 [==============================] - 39s 2ms/step\n"
     ]
    }
   ],
   "source": [
    "# Evaluate the model\n",
    "loss, accuracy = loaded_model.evaluate(X_test, y_test)\n",
    "print(f\"Loss: {loss}, Accuracy: {accuracy}\")\n",
    "\n",
    "# Make predictions\n",
    "y_pred = loaded_model.predict(X_test)"
   ]
  }
 ],
 "metadata": {
  "kernelspec": {
   "display_name": "Python 3",
   "language": "python",
   "name": "python3"
  },
  "language_info": {
   "codemirror_mode": {
    "name": "ipython",
    "version": 3
   },
   "file_extension": ".py",
   "mimetype": "text/x-python",
   "name": "python",
   "nbconvert_exporter": "python",
   "pygments_lexer": "ipython3",
   "version": "3.8.3"
  }
 },
 "nbformat": 4,
 "nbformat_minor": 4
}
