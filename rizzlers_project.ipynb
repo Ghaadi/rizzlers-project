{
 "cells": [
  {
   "cell_type": "code",
   "execution_count": 5,
   "metadata": {},
   "outputs": [],
   "source": [
    "import pandas as pd\n",
    "import numpy as np\n",
    "import tensorflow as tf\n",
    "from tensorflow import keras\n",
    "from sklearn.model_selection import StratifiedKFold, GridSearchCV\n",
    "from sklearn.preprocessing import StandardScaler\n",
    "from sklearn.impute import SimpleImputer\n",
    "from sklearn.metrics import accuracy_score, confusion_matrix, roc_curve, auc, roc_auc_score\n",
    "import matplotlib.pyplot as plt\n",
    "from keras.wrappers.scikit_learn import KerasClassifier\n",
    "from keras.callbacks import EarlyStopping, ReduceLROnPlateau\n",
    "import seaborn as sns\n",
    "from tensorflow.keras.layers import BatchNormalization\n",
    "from tensorflow.keras.optimizers.schedules import ExponentialDecay\n",
    "from keras.optimizers import Adam"
   ]
  },
  {
   "cell_type": "code",
   "execution_count": 15,
   "metadata": {},
   "outputs": [],
   "source": [
    "# Load and preprocess data\n",
    "def load_data(file_path):\n",
    "    # Load the data from the CSV file, treating \"error\" as a missing value indicator and keeping the header as None\n",
    "    data = pd.read_csv(file_path, header=None, na_values=\"error\", dtype=str)\n",
    "    \n",
    "    # Convert all numeric columns to float, coercing non-numeric values to NaN\n",
    "    for col in data.columns:\n",
    "        data[col] = pd.to_numeric(data[col], errors='coerce')\n",
    "        \n",
    "    # Extract labels (first column) and features (all other columns) as NumPy arrays\n",
    "    labels = data.iloc[:, 0].values\n",
    "    features = data.iloc[:, 1:].values\n",
    "    \n",
    "    # Return the features and labels\n",
    "    return features, labels\n",
    "\n",
    "def preprocess_data(features, labels):\n",
    "    # Impute missing values with the mean of the respective column\n",
    "    imputer = SimpleImputer(strategy='mean')\n",
    "    features = imputer.fit_transform(features)\n",
    "    \n",
    "    # Scale the features using StandardScaler to have mean = 0 and standard deviation = 1\n",
    "    scaler = StandardScaler()\n",
    "    features = scaler.fit_transform(features)\n",
    "    \n",
    "    # Return the preprocessed features and the original labels\n",
    "    return features, labels"
   ]
  },
  {
   "cell_type": "code",
   "execution_count": 7,
   "metadata": {},
   "outputs": [],
   "source": [
    "# Wrapper class to adapt Keras model to scikit-learn\n",
    "class KerasModelWrapper():\n",
    "    def __init__(self, keras_model):\n",
    "        # Initialize the KerasModelWrapper instance with the provided Keras model\n",
    "        self.model = keras_model\n",
    "\n",
    "    def predict(self, X):\n",
    "        # Use the Keras model to make predictions on the input data (X),\n",
    "        # apply a threshold of 0.5 to convert probabilities to class labels,\n",
    "        # and then flatten the result into a 1D array\n",
    "        return (self.model.predict(X) > 0.5).astype('int32').flatten()\n",
    "\n",
    "    def predict_proba(self, X):\n",
    "        # Use the Keras model to predict probabilities for the input data (X),\n",
    "        # and stack the predicted probabilities for the negative class (1 - predicted probability)\n",
    "        # with the predicted probabilities for the positive class\n",
    "        return np.hstack([1 - self.model.predict(X), self.model.predict(X)])\n",
    "\n",
    "def create_model(learning_rate=0.001, dropout_rate=0.2, n_hidden_layers=3, n_units_per_layer=128):\n",
    "    # Create a new Sequential model\n",
    "    model = keras.Sequential()\n",
    "    \n",
    "    # Add the input layer with 256 units, ReLU activation, and an input shape of 28\n",
    "    model.add(keras.layers.Dense(256, activation='relu', input_shape=(28,)))\n",
    "    \n",
    "    # Add batch normalization to the model for regularization and faster training\n",
    "    model.add(BatchNormalization())\n",
    "    \n",
    "    # Add a dropout layer to prevent overfitting\n",
    "    model.add(keras.layers.Dropout(dropout_rate))\n",
    "    \n",
    "    # Add a specified number of hidden layers, each with specified number of units, ReLU activation,\n",
    "    # batch normalization, and dropout for regularization\n",
    "    for _ in range(n_hidden_layers):\n",
    "        model.add(keras.layers.Dense(n_units_per_layer, activation='relu'))\n",
    "        model.add(BatchNormalization())\n",
    "        model.add(keras.layers.Dropout(dropout_rate))\n",
    "    \n",
    "    # Add the output layer with a single unit and sigmoid activation for binary classification\n",
    "    model.add(keras.layers.Dense(1, activation='sigmoid'))\n",
    "    \n",
    "    # Define the learning rate schedule, which decays exponentially over time\n",
    "    lr_schedule = ExponentialDecay(initial_learning_rate=learning_rate, decay_steps=1000, decay_rate=0.9)\n",
    "    \n",
    "    # Create the Adam optimizer with the learning rate schedule\n",
    "    optimizer = Adam(learning_rate=lr_schedule)\n",
    "    \n",
    "    # Compile the model with the optimizer, binary cross-entropy loss, and accuracy metric\n",
    "    model.compile(optimizer=optimizer, loss='binary_crossentropy', metrics=['accuracy'])\n",
    "    \n",
    "    # Return the compiled model\n",
    "    return model\n",
    "\n",
    "def plot_roc_curve(y_true, y_pred_probs, title='ROC Curve'):\n",
    "    # Compute false positive rate (fpr), true positive rate (tpr), and thresholds for the ROC curve\n",
    "    fpr, tpr, _ = roc_curve(y_true, y_pred_probs)\n",
    "    \n",
    "    # Calculate the area under the ROC curve (AUC)\n",
    "    roc_auc = auc(fpr, tpr)\n",
    "    \n",
    "    # Create a new matplotlib figure\n",
    "    plt.figure()\n",
    "    \n",
    "    # Plot the ROC curve with the AUC score\n",
    "    plt.plot(fpr, tpr, color='darkorange', lw=2, label='ROC curve (area = %0.2f)' % roc_auc)\n",
    "    \n",
    "    # Plot the diagonal line representing random guessing\n",
    "    plt.plot([0, 1], [0, 1], color='navy', lw=2, linestyle='--')\n",
    "    \n",
    "    # Set axis limits and labels\n",
    "    plt.xlim([0.0, 1.0])\n",
    "    plt.ylim([0.0, 1.05])\n",
    "    plt.xlabel('False Positive Rate')\n",
    "    plt.ylabel('True Positive Rate')\n",
    "    \n",
    "    # Set the title of the plot and position of the legend\n",
    "    plt.title(title)\n",
    "    plt.legend(loc=\"lower right\")\n",
    "    \n",
    "    # Display the plot\n",
    "    plt.show()\n",
    "\n",
    "def plot_roc_curve(y_true, y_pred_probs, title='ROC Curve'):\n",
    "    # Compute false positive rate (fpr), true positive rate (tpr), and thresholds for the ROC curve\n",
    "    fpr, tpr, _ = roc_curve(y_true, y_pred_probs)\n",
    "    \n",
    "    # Calculate the area under the ROC curve (AUC)\n",
    "    roc_auc = auc(fpr, tpr)\n",
    "    \n",
    "    # Create a new matplotlib figure\n",
    "    plt.figure()\n",
    "    \n",
    "    # Plot the ROC curve with the AUC score\n",
    "    plt.plot(fpr, tpr, color='darkorange', lw=2, label='ROC curve (area = %0.2f)' % roc_auc)\n",
    "    \n",
    "    # Plot the diagonal line representing random guessing\n",
    "    plt.plot([0, 1], [0, 1], color='navy', lw=2, linestyle='--')\n",
    "    \n",
    "    # Set axis limits and labels\n",
    "    plt.xlim([0.0, 1.0])\n",
    "    plt.ylim([0.0, 1.05])\n",
    "    plt.xlabel('False Positive Rate')\n",
    "    plt.ylabel('True Positive Rate')\n",
    "    \n",
    "    # Set the title of the plot and position of the legend\n",
    "    plt.title(title)\n",
    "    plt.legend(loc=\"lower right\")\n",
    "    \n",
    "    # Display the plot\n",
    "    plt.show()\n",
    "\n",
    "def custom_plot_confusion_matrix(y_true, y_pred, cmap='Blues'):\n",
    "    # Compute the confusion matrix using the true and predicted labels\n",
    "    cm = confusion_matrix(y_true, y_pred)\n",
    "    \n",
    "    # Create a new matplotlib figure\n",
    "    plt.figure()\n",
    "    \n",
    "    # Create a heatmap of the confusion matrix using seaborn\n",
    "    sns.heatmap(cm, annot=True, fmt='d', cmap=cmap, cbar=False)\n",
    "    \n",
    "    # Set axis labels and plot title\n",
    "    plt.xlabel('Predicted Label')\n",
    "    plt.ylabel('True Label')\n",
    "    plt.title(\"Confusion Matrix\")\n",
    "    \n",
    "    # Display the plot\n",
    "    plt.show()"
   ]
  },
  {
   "cell_type": "code",
   "execution_count": 50,
   "metadata": {},
   "outputs": [],
   "source": [
    "# Load and preprocess data\n",
    "features, labels = load_data('HIGGS_train.csv')\n",
    "features, labels = preprocess_data(features, labels)"
   ]
  },
  {
   "cell_type": "code",
   "execution_count": 51,
   "metadata": {},
   "outputs": [],
   "source": [
    "# Prepare k-fold cross-validation\n",
    "k = 5\n",
    "skf = StratifiedKFold(n_splits=k, random_state=42, shuffle=True)"
   ]
  },
  {
   "cell_type": "code",
   "execution_count": 52,
   "metadata": {},
   "outputs": [
    {
     "name": "stderr",
     "output_type": "stream",
     "text": [
      "<ipython-input-52-6833fce4ba39>:2: DeprecationWarning: KerasClassifier is deprecated, use Sci-Keras (https://github.com/adriangb/scikeras) instead. See https://www.adriangb.com/scikeras/stable/migration.html for help migrating.\n",
      "  wrapped_model = KerasClassifier(build_fn=create_model, epochs=10, batch_size=256, verbose=0)\n"
     ]
    }
   ],
   "source": [
    "# Wrap the model for use with scikit-learn\n",
    "wrapped_model = KerasClassifier(build_fn=create_model, epochs=10, batch_size=256, verbose=0)"
   ]
  },
  {
   "cell_type": "code",
   "execution_count": 53,
   "metadata": {},
   "outputs": [],
   "source": [
    "# Define a search space for hyperparameters\n",
    "param_grid = {\n",
    "    'learning_rate': [0.001, 0.01, 0.1],\n",
    "    'dropout_rate': [0.1, 0.2, 0.3],\n",
    "    'n_hidden_layers': [2, 3, 4],\n",
    "    'n_units_per_layer': [64, 128, 256]\n",
    "}"
   ]
  },
  {
   "cell_type": "code",
   "execution_count": 54,
   "metadata": {},
   "outputs": [],
   "source": [
    "# Perform the hyperparameter search using GridSearchCV\n",
    "grid = GridSearchCV(estimator=wrapped_model, param_grid=param_grid, cv=3)\n",
    "grid_result = grid.fit(features, labels)"
   ]
  },
  {
   "cell_type": "code",
   "execution_count": 55,
   "metadata": {},
   "outputs": [
    {
     "name": "stdout",
     "output_type": "stream",
     "text": [
      "Best: 0.755152 using {'dropout_rate': 0.1, 'learning_rate': 0.01, 'n_hidden_layers': 3, 'n_units_per_layer': 256}\n"
     ]
    }
   ],
   "source": [
    "# Show the results of the search\n",
    "print(\"Best: %f using %s\" % (grid_result.best_score_, grid_result.best_params_))\n",
    "\n",
    "# Extract the best hyperparameters from the grid search result\n",
    "best_params = grid_result.best_params_\n",
    "learning_rate_opt = best_params['learning_rate']\n",
    "dropout_rate_opt = best_params['dropout_rate']\n",
    "n_hidden_layers_opt = best_params['n_hidden_layers']\n",
    "n_units_per_layer_opt = best_params['n_units_per_layer']"
   ]
  },
  {
   "cell_type": "code",
   "execution_count": 161,
   "metadata": {},
   "outputs": [
    {
     "name": "stdout",
     "output_type": "stream",
     "text": [
      "3750/3750 [==============================] - 9s 2ms/step\n",
      "3750/3750 [==============================] - 8s 2ms/step\n",
      "3750/3750 [==============================] - 8s 2ms/step\n"
     ]
    },
    {
     "data": {
      "image/png": "[encoded data removed]",
      "text/plain": [
       "<Figure size 432x288 with 1 Axes>"
      ]
     },
     "metadata": {
      "needs_background": "light"
     },
     "output_type": "display_data"
    },
    {
     "name": "stdout",
     "output_type": "stream",
     "text": [
      "Accuracy: 0.7582\n",
      "Validation Accuracy: 0.7581999897956848\n",
      "ROC AUC Score: 0.8422911430800726\n",
      "\n",
      "3750/3750 [==============================] - 8s 2ms/step\n",
      "3750/3750 [==============================] - 8s 2ms/step\n",
      "3750/3750 [==============================] - 8s 2ms/step\n"
     ]
    },
    {
     "data": {
      "image/png": "[encoded data removed]",
      "text/plain": [
       "<Figure size 432x288 with 1 Axes>"
      ]
     },
     "metadata": {
      "needs_background": "light"
     },
     "output_type": "display_data"
    },
    {
     "name": "stdout",
     "output_type": "stream",
     "text": [
      "Accuracy: 0.75975\n",
      "Validation Accuracy: 0.7597249746322632\n",
      "ROC AUC Score: 0.8435604404284982\n",
      "\n",
      "3750/3750 [==============================] - 9s 2ms/step\n",
      "3750/3750 [==============================] - 8s 2ms/step\n",
      "3750/3750 [==============================] - 8s 2ms/step\n"
     ]
    },
    {
     "data": {
      "image/png": "[encoded data removed]",
      "text/plain": [
       "<Figure size 432x288 with 1 Axes>"
      ]
     },
     "metadata": {
      "needs_background": "light"
     },
     "output_type": "display_data"
    },
    {
     "name": "stdout",
     "output_type": "stream",
     "text": [
      "Accuracy: 0.7625916666666667\n",
      "Validation Accuracy: 0.7625916600227356\n",
      "ROC AUC Score: 0.8473388939558305\n",
      "\n",
      "3750/3750 [==============================] - 8s 2ms/step\n",
      "3750/3750 [==============================] - 8s 2ms/step\n",
      "3750/3750 [==============================] - 8s 2ms/step\n"
     ]
    },
    {
     "data": {
      "image/png": "[encoded data removed]",
      "text/plain": [
       "<Figure size 432x288 with 1 Axes>"
      ]
     },
     "metadata": {
      "needs_background": "light"
     },
     "output_type": "display_data"
    },
    {
     "name": "stdout",
     "output_type": "stream",
     "text": [
      "Accuracy: 0.7582\n",
      "Validation Accuracy: 0.7581999897956848\n",
      "ROC AUC Score: 0.8418830987534709\n",
      "\n",
      "3750/3750 [==============================] - 9s 2ms/step\n",
      "3750/3750 [==============================] - 8s 2ms/step\n",
      "3750/3750 [==============================] - 8s 2ms/step\n"
     ]
    },
    {
     "data": {
      "image/png": "[encoded data removed]",
      "text/plain": [
       "<Figure size 432x288 with 1 Axes>"
      ]
     },
     "metadata": {
      "needs_background": "light"
     },
     "output_type": "display_data"
    },
    {
     "name": "stdout",
     "output_type": "stream",
     "text": [
      "Accuracy: 0.7604\n",
      "Validation Accuracy: 0.7603999972343445\n",
      "ROC AUC Score: 0.8448279636894216\n",
      "\n"
     ]
    }
   ],
   "source": [
    "# Train the model using k-fold cross-validation with the best hyperparameters\n",
    "validation_scores = []\n",
    "val_accuracy_scores = []\n",
    "roc_auc_scores = []\n",
    "\n",
    "# Define an early stopping callback with criteria for stopping, restoring the best weights,\n",
    "# and monitoring validation loss\n",
    "early_stop = EarlyStopping(monitor='val_loss', patience=5, min_delta=1e-4, restore_best_weights=True)\n",
    "\n",
    "# Create a StratifiedKFold cross-validator with 5 splits to ensure that each fold has the same\n",
    "# proportion of samples from each class as the complete dataset\n",
    "skf = StratifiedKFold(n_splits=5)\n",
    "\n",
    "for train_index, val_index in skf.split(features, labels):\n",
    "    X_train, X_val = features[train_index], features[val_index]\n",
    "    y_train, y_val = labels[train_index], labels[val_index]\n",
    "\n",
    "    # Create a ReduceLROnPlateau callback\n",
    "    reduce_lr_callback = ReduceLROnPlateau(monitor='val_loss', factor=0.5, patience=4, min_lr=1e-6)\n",
    "    model = create_model(learning_rate=learning_rate_opt, dropout_rate=dropout_rate_opt, n_hidden_layers=n_hidden_layers_opt, n_units_per_layer=n_units_per_layer_opt)\n",
    "    history = model.fit(X_train, y_train, validation_data=(X_val, y_val), epochs=20, batch_size=256, verbose=0, callbacks=[early_stop, reduce_lr_callback])\n",
    "\n",
    "    # Wrap the Keras model with KerasModelWrapper\n",
    "    wrapped_model = KerasModelWrapper(model)\n",
    "\n",
    "    # Make predictions on the validation dataset\n",
    "    y_pred_probs = wrapped_model.predict_proba(X_val)[:, 1]\n",
    "    y_pred = wrapped_model.predict(X_val)\n",
    "\n",
    "    # Calculate the accuracy\n",
    "    acc = accuracy_score(y_val, y_pred)\n",
    "    validation_scores.append(acc)\n",
    "\n",
    "    # Compute the confusion matrix using the custom function\n",
    "    custom_plot_confusion_matrix(y_val, y_pred)\n",
    "\n",
    "    # Calculate the ROC AUC score\n",
    "    roc_auc = roc_auc_score(y_val, y_pred_probs)\n",
    "    roc_auc_scores.append(roc_auc)\n",
    "\n",
    "    # Calculate the validation accuracy\n",
    "    val_acc = history.history['val_accuracy'][-1]\n",
    "    val_accuracy_scores.append(val_acc)\n",
    "\n",
    "    print(\"Accuracy:\", acc)\n",
    "    print(\"Validation Accuracy:\", val_acc)\n",
    "    print(\"ROC AUC Score:\", roc_auc)\n",
    "    print()"
   ]
  },
  {
   "cell_type": "code",
   "execution_count": 162,
   "metadata": {},
   "outputs": [
    {
     "name": "stdout",
     "output_type": "stream",
     "text": [
      "Average Accuracy: 0.7598283333333333\n",
      "Average Validation Accuracy: 0.7598233222961426\n",
      "Average ROC AUC Score: 0.8439803079814588\n"
     ]
    }
   ],
   "source": [
    "# Compute average scores across all folds\n",
    "average_accuracy = np.mean(validation_scores)\n",
    "average_val_accuracy = np.mean(val_accuracy_scores)  \n",
    "average_roc_auc = np.mean(roc_auc_scores)\n",
    "\n",
    "print(\"Average Accuracy:\", average_accuracy)\n",
    "print(\"Average Validation Accuracy:\", average_val_accuracy)  \n",
    "print(\"Average ROC AUC Score:\", average_roc_auc)"
   ]
  },
  {
   "cell_type": "code",
   "execution_count": 163,
   "metadata": {},
   "outputs": [
    {
     "data": {
      "image/png": "[encoded data removed]",
      "text/plain": [
       "<Figure size 432x288 with 1 Axes>"
      ]
     },
     "metadata": {
      "needs_background": "light"
     },
     "output_type": "display_data"
    }
   ],
   "source": [
    "# Plot the ROC curve for the last fold\n",
    "plot_roc_curve(y_val, y_pred_probs)"
   ]
  },
  {
   "cell_type": "code",
   "execution_count": 164,
   "metadata": {},
   "outputs": [],
   "source": [
    "# save as .h5\n",
    "model.save('rizzlers_model.h5')"
   ]
  }
 ],
 "metadata": {
  "kernelspec": {
   "display_name": "Python 3",
   "language": "python",
   "name": "python3"
  },
  "language_info": {
   "codemirror_mode": {
    "name": "ipython",
    "version": 3
   },
   "file_extension": ".py",
   "mimetype": "text/x-python",
   "name": "python",
   "nbconvert_exporter": "python",
   "pygments_lexer": "ipython3",
   "version": "3.10.10"
  }
 },
 "nbformat": 4,
 "nbformat_minor": 4
}
